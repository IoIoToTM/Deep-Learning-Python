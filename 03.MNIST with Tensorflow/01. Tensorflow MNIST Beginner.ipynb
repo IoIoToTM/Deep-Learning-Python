{
 "cells": [
  {
   "cell_type": "code",
   "execution_count": 1,
   "metadata": {},
   "outputs": [],
   "source": [
    "import tensorflow as tf\n",
    "import matplotlib.pyplot as plt\n",
    "import numpy as np\n",
    "import pandas as pd"
   ]
  },
  {
   "cell_type": "code",
   "execution_count": 2,
   "metadata": {},
   "outputs": [
    {
     "name": "stdout",
     "output_type": "stream",
     "text": [
      "Extracting data/MNIST_data/train-images-idx3-ubyte.gz\n",
      "Extracting data/MNIST_data/train-labels-idx1-ubyte.gz\n",
      "Extracting data/MNIST_data/t10k-images-idx3-ubyte.gz\n",
      "Extracting data/MNIST_data/t10k-labels-idx1-ubyte.gz\n"
     ]
    }
   ],
   "source": [
    "from tensorflow.examples.tutorials.mnist import input_data\n",
    "mnist = input_data.read_data_sets(\"data/MNIST_data/\", one_hot=True)"
   ]
  },
  {
   "cell_type": "code",
   "execution_count": 3,
   "metadata": {},
   "outputs": [],
   "source": [
    "learning_rate = 0.01\n",
    "training_iteration = 50\n",
    "batch_size = 1000\n",
    "display_step = 2\n",
    "\n",
    "x = tf.placeholder(\"float\", [None, 784]) # mnist data image of shape 28*28=784\n",
    "y = tf.placeholder(\"float\", [None, 10]) # 0-9 digits recognition => 10 classes\n",
    "\n",
    "W = tf.Variable(tf.zeros([784, 10]))\n",
    "b = tf.Variable(tf.zeros([10]))\n",
    "\n",
    "yy_pred = tf.matmul(x, W) + b\n",
    "y_pred = tf.nn.softmax(yy_pred) # Softmax\n",
    "\n",
    "cost_function = tf.reduce_mean(-tf.reduce_sum(y*tf.log(y_pred), reduction_indices=[1]))\n",
    "\n",
    "optimizer = tf.train.GradientDescentOptimizer(learning_rate).minimize(cost_function)"
   ]
  },
  {
   "cell_type": "code",
   "execution_count": 9,
   "metadata": {},
   "outputs": [
    {
     "name": "stdout",
     "output_type": "stream",
     "text": [
      "WARNING:tensorflow:From <ipython-input-9-da9ca82cf219>:1: initialize_all_variables (from tensorflow.python.ops.variables) is deprecated and will be removed after 2017-03-02.\n",
      "Instructions for updating:\n",
      "Use `tf.global_variables_initializer` instead.\n",
      "Iteration=1    cost=1.184233522848649\n",
      "Iteration=2    cost=0.6654639201814478\n",
      "Iteration=3    cost=0.5527075434272946\n",
      "Iteration=4    cost=0.49868104316971495\n",
      "Iteration=5    cost=0.4657128484682608\n",
      "Iteration=6    cost=0.4428411015055397\n",
      "Iteration=7    cost=0.42506319598718134\n",
      "Iteration=8    cost=0.41236566148020953\n",
      "Iteration=9    cost=0.40130226235498095\n",
      "Iteration=10    cost=0.3923658991401842\n",
      "Iteration=11    cost=0.3848972622914744\n",
      "Iteration=12    cost=0.378077163696289\n",
      "Iteration=13    cost=0.3724246091463351\n",
      "Iteration=14    cost=0.3672774427316406\n",
      "Iteration=15    cost=0.3627184075929903\n",
      "Iteration=16    cost=0.35843238183043186\n",
      "Iteration=17    cost=0.3549577742815022\n",
      "Iteration=18    cost=0.3514804443446071\n",
      "Iteration=19    cost=0.34851467148824145\n",
      "Iteration=20    cost=0.34581497178836307\n",
      "Iteration=21    cost=0.34238835657184763\n",
      "Iteration=22    cost=0.3402298810807139\n",
      "Iteration=23    cost=0.3382167852466759\n",
      "Iteration=24    cost=0.33546381050890156\n",
      "Iteration=25    cost=0.3337487438321114\n",
      "Iteration=26    cost=0.3315570763024415\n",
      "Iteration=27    cost=0.32997323437170534\n",
      "Iteration=28    cost=0.32857153364203173\n",
      "Iteration=29    cost=0.3262838379632344\n",
      "Iteration=30    cost=0.32520893839272597\n",
      "Iteration=31    cost=0.32331474645571306\n",
      "Iteration=32    cost=0.32238956920125256\n",
      "Iteration=33    cost=0.32065596675330926\n",
      "Iteration=34    cost=0.3194900094108148\n",
      "Iteration=35    cost=0.318448451676152\n",
      "Iteration=36    cost=0.31699611154469576\n",
      "Iteration=37    cost=0.31625176074829986\n",
      "Iteration=38    cost=0.31453956151550505\n",
      "Iteration=39    cost=0.3141018234057862\n",
      "Iteration=40    cost=0.3128542031483223\n",
      "Iteration=41    cost=0.3120558357238768\n",
      "Iteration=42    cost=0.31065618282014673\n",
      "Iteration=43    cost=0.31013709614222673\n",
      "Iteration=44    cost=0.309152240644802\n",
      "Iteration=45    cost=0.3087597657469186\n",
      "Iteration=46    cost=0.30732240698554286\n",
      "Iteration=47    cost=0.3064184296131137\n",
      "Iteration=48    cost=0.3063530976257541\n",
      "Iteration=49    cost=0.30494971443306323\n",
      "Iteration=50    cost=0.3046672942557117\n",
      "Tuning completed!\n",
      "0.9197\n"
     ]
    }
   ],
   "source": [
    "init = tf.initialize_all_variables()\n",
    "\n",
    "with tf.Session() as sess:\n",
    "    sess.run(init)\n",
    "\n",
    "    for iteration in range(training_iteration):\n",
    "        avg_cost = 0.\n",
    "        total_batch = int(mnist.train.num_examples/batch_size)\n",
    "\n",
    "        for i in range(total_batch):\n",
    "            batch_x, batch_y = mnist.train.next_batch(batch_size)\n",
    "            feed = {x: batch_x, y: batch_y}\n",
    "            _, avg = sess.run([optimizer, cost_function], feed_dict=feed)\n",
    "            avg_cost += avg/total_batch\n",
    "        \n",
    "        print (\"Iteration={}    cost={}\".format(iteration + 1, avg_cost))\n",
    "        \n",
    "        \n",
    "\n",
    "    print (\"Tuning completed!\")\n",
    "\n",
    "    # Test the y_pred\n",
    "    predictions = tf.equal(tf.argmax(y_pred, 1), tf.argmax(y, 1))\n",
    "    # Calculate accuracy\n",
    "    accuracy = tf.reduce_mean(tf.cast(predictions, \"float\"))\n",
    "    print(sess.run(accuracy, feed_dict={x: mnist.test.images, y: mnist.test.labels}))"
   ]
  },
  {
   "cell_type": "code",
   "execution_count": null,
   "metadata": {},
   "outputs": [],
   "source": []
  }
 ],
 "metadata": {
  "kernelspec": {
   "display_name": "Python 3",
   "language": "python",
   "name": "python3"
  },
  "language_info": {
   "codemirror_mode": {
    "name": "ipython",
    "version": 3
   },
   "file_extension": ".py",
   "mimetype": "text/x-python",
   "name": "python",
   "nbconvert_exporter": "python",
   "pygments_lexer": "ipython3",
   "version": "3.5.5"
  }
 },
 "nbformat": 4,
 "nbformat_minor": 2
}
