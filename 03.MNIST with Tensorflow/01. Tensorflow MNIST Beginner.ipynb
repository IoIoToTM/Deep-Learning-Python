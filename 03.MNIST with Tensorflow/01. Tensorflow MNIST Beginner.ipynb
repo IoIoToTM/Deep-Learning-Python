{
 "cells": [
  {
   "cell_type": "code",
   "execution_count": 1,
   "metadata": {},
   "outputs": [],
   "source": [
    "import tensorflow as tf\n",
    "import matplotlib.pyplot as plt\n",
    "import numpy as np\n",
    "import pandas as pd"
   ]
  },
  {
   "cell_type": "code",
   "execution_count": 2,
   "metadata": {
    "scrolled": true
   },
   "outputs": [
    {
     "name": "stdout",
     "output_type": "stream",
     "text": [
      "WARNING:tensorflow:From <ipython-input-2-91728e189d13>:2: read_data_sets (from tensorflow.contrib.learn.python.learn.datasets.mnist) is deprecated and will be removed in a future version.\n",
      "Instructions for updating:\n",
      "Please use alternatives such as official/mnist/dataset.py from tensorflow/models.\n",
      "WARNING:tensorflow:From E:\\Anaconda3\\envs\\env\\lib\\site-packages\\tensorflow\\contrib\\learn\\python\\learn\\datasets\\mnist.py:260: maybe_download (from tensorflow.contrib.learn.python.learn.datasets.base) is deprecated and will be removed in a future version.\n",
      "Instructions for updating:\n",
      "Please write your own downloading logic.\n",
      "WARNING:tensorflow:From E:\\Anaconda3\\envs\\env\\lib\\site-packages\\tensorflow\\contrib\\learn\\python\\learn\\datasets\\mnist.py:262: extract_images (from tensorflow.contrib.learn.python.learn.datasets.mnist) is deprecated and will be removed in a future version.\n",
      "Instructions for updating:\n",
      "Please use tf.data to implement this functionality.\n",
      "Extracting data/MNIST_data/train-images-idx3-ubyte.gz\n",
      "WARNING:tensorflow:From E:\\Anaconda3\\envs\\env\\lib\\site-packages\\tensorflow\\contrib\\learn\\python\\learn\\datasets\\mnist.py:267: extract_labels (from tensorflow.contrib.learn.python.learn.datasets.mnist) is deprecated and will be removed in a future version.\n",
      "Instructions for updating:\n",
      "Please use tf.data to implement this functionality.\n",
      "Extracting data/MNIST_data/train-labels-idx1-ubyte.gz\n",
      "WARNING:tensorflow:From E:\\Anaconda3\\envs\\env\\lib\\site-packages\\tensorflow\\contrib\\learn\\python\\learn\\datasets\\mnist.py:110: dense_to_one_hot (from tensorflow.contrib.learn.python.learn.datasets.mnist) is deprecated and will be removed in a future version.\n",
      "Instructions for updating:\n",
      "Please use tf.one_hot on tensors.\n",
      "Extracting data/MNIST_data/t10k-images-idx3-ubyte.gz\n",
      "Extracting data/MNIST_data/t10k-labels-idx1-ubyte.gz\n",
      "WARNING:tensorflow:From E:\\Anaconda3\\envs\\env\\lib\\site-packages\\tensorflow\\contrib\\learn\\python\\learn\\datasets\\mnist.py:290: DataSet.__init__ (from tensorflow.contrib.learn.python.learn.datasets.mnist) is deprecated and will be removed in a future version.\n",
      "Instructions for updating:\n",
      "Please use alternatives such as official/mnist/dataset.py from tensorflow/models.\n"
     ]
    }
   ],
   "source": [
    "from tensorflow.examples.tutorials.mnist import input_data\n",
    "mnist = input_data.read_data_sets(\"data/MNIST_data/\", one_hot=True)"
   ]
  },
  {
   "cell_type": "code",
   "execution_count": 3,
   "metadata": {},
   "outputs": [],
   "source": [
    "learning_rate = 0.01\n",
    "training_iteration = 50\n",
    "batch_size = 1000\n",
    "display_step = 2\n",
    "\n",
    "x = tf.placeholder(\"float\", [None, 784]) # mnist data image of shape 28*28=784\n",
    "y = tf.placeholder(\"float\", [None, 10]) # 0-9 digits recognition => 10 classes\n",
    "\n",
    "W = tf.Variable(tf.zeros([784, 10]))\n",
    "b = tf.Variable(tf.zeros([10]))\n",
    "\n",
    "yy_pred = tf.matmul(x, W) + b\n",
    "y_pred = tf.nn.softmax(yy_pred) # Softmax\n",
    "\n",
    "cost_function = tf.reduce_mean(-tf.reduce_sum(y*tf.log(y_pred), reduction_indices=[1]))\n",
    "\n",
    "optimizer = tf.train.GradientDescentOptimizer(learning_rate).minimize(cost_function)"
   ]
  },
  {
   "cell_type": "code",
   "execution_count": 4,
   "metadata": {
    "scrolled": true
   },
   "outputs": [
    {
     "name": "stdout",
     "output_type": "stream",
     "text": [
      "Iteration=1    cost=2.050505167787725\n",
      "Iteration=2    cost=1.6575821551409633\n",
      "Iteration=3    cost=1.3963481903076174\n",
      "Iteration=4    cost=1.2183952374891798\n",
      "Iteration=5    cost=1.092256606708874\n",
      "Iteration=6    cost=0.9990323619409041\n",
      "Iteration=7    cost=0.927589709108526\n",
      "Iteration=8    cost=0.8711311166936703\n",
      "Iteration=9    cost=0.8253422747958786\n",
      "Iteration=10    cost=0.7874123822559013\n",
      "Iteration=11    cost=0.7554288766600873\n",
      "Iteration=12    cost=0.7280711076476358\n",
      "Iteration=13    cost=0.7043469190597536\n",
      "Iteration=14    cost=0.6835624586452135\n",
      "Iteration=15    cost=0.6651926571672614\n",
      "Iteration=16    cost=0.648801589012146\n",
      "Iteration=17    cost=0.6340715115720575\n",
      "Iteration=18    cost=0.6207741000435567\n",
      "Iteration=19    cost=0.6086698813871902\n",
      "Iteration=20    cost=0.5976007158106023\n",
      "Iteration=21    cost=0.5874479683962734\n",
      "Iteration=22    cost=0.5781003952026369\n",
      "Iteration=23    cost=0.5694158575751562\n",
      "Iteration=24    cost=0.5613778883760627\n",
      "Iteration=25    cost=0.553878298672763\n",
      "Iteration=26    cost=0.5468649094754998\n",
      "Iteration=27    cost=0.5402883876453747\n",
      "Iteration=28    cost=0.5341230685060674\n",
      "Iteration=29    cost=0.528310070254586\n",
      "Iteration=30    cost=0.5228265307166359\n",
      "Iteration=31    cost=0.5176372809843584\n",
      "Iteration=32    cost=0.5127174637534401\n",
      "Iteration=33    cost=0.5080555585297671\n",
      "Iteration=34    cost=0.5036280621181833\n",
      "Iteration=35    cost=0.4994055493311448\n",
      "Iteration=36    cost=0.49537358175624496\n",
      "Iteration=37    cost=0.49152963757514956\n",
      "Iteration=38    cost=0.48785473270849755\n",
      "Iteration=39    cost=0.4843307749791579\n",
      "Iteration=40    cost=0.4809573785825208\n",
      "Iteration=41    cost=0.47771667025306\n",
      "Iteration=42    cost=0.47460637959567004\n",
      "Iteration=43    cost=0.4716148392720656\n",
      "Iteration=44    cost=0.4687394505197352\n",
      "Iteration=45    cost=0.4659573311155493\n",
      "Iteration=46    cost=0.46328417279503553\n",
      "Iteration=47    cost=0.46070241602984335\n",
      "Iteration=48    cost=0.45820551568811596\n",
      "Iteration=49    cost=0.45580102747136897\n",
      "Iteration=50    cost=0.4534622772173448\n",
      "Tuning completed!\n",
      "0.8911\n"
     ]
    }
   ],
   "source": [
    "init = tf.global_variables_initializer()\n",
    "\n",
    "with tf.Session() as sess:\n",
    "    sess.run(init)\n",
    "\n",
    "    for iteration in range(training_iteration):\n",
    "        avg_cost = 0.\n",
    "        total_batch = int(mnist.train.num_examples/batch_size)\n",
    "\n",
    "        for i in range(total_batch):\n",
    "            batch_x, batch_y = mnist.train.next_batch(batch_size)\n",
    "            feed = {x: batch_x, y: batch_y}\n",
    "            _, avg = sess.run([optimizer, cost_function], feed_dict=feed)\n",
    "            avg_cost += avg/total_batch\n",
    "        \n",
    "        print (\"Iteration={}    cost={}\".format(iteration + 1, avg_cost))\n",
    "        \n",
    "        \n",
    "\n",
    "    print (\"Tuning completed!\")\n",
    "\n",
    "    # Test the y_pred\n",
    "    predictions = tf.equal(tf.argmax(y_pred, 1), tf.argmax(y, 1))\n",
    "    # Calculate accuracy\n",
    "    accuracy = tf.reduce_mean(tf.cast(predictions, \"float\"))\n",
    "    print(sess.run(accuracy, feed_dict={x: mnist.test.images, y: mnist.test.labels}))"
   ]
  },
  {
   "cell_type": "code",
   "execution_count": null,
   "metadata": {},
   "outputs": [],
   "source": []
  }
 ],
 "metadata": {
  "kernelspec": {
   "display_name": "Python 3",
   "language": "python",
   "name": "python3"
  },
  "language_info": {
   "codemirror_mode": {
    "name": "ipython",
    "version": 3
   },
   "file_extension": ".py",
   "mimetype": "text/x-python",
   "name": "python",
   "nbconvert_exporter": "python",
   "pygments_lexer": "ipython3",
   "version": "3.5.5"
  }
 },
 "nbformat": 4,
 "nbformat_minor": 2
}
