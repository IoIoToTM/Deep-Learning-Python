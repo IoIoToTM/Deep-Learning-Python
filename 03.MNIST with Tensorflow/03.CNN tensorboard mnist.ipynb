{
 "cells": [
  {
   "cell_type": "code",
   "execution_count": 1,
   "metadata": {},
   "outputs": [],
   "source": [
    "%matplotlib inline\n",
    "import matplotlib.pyplot as plt\n",
    "import tensorflow as tf\n",
    "import numpy as np\n",
    "import time\n",
    "from datetime import timedelta\n",
    "import math"
   ]
  },
  {
   "cell_type": "code",
   "execution_count": 2,
   "metadata": {},
   "outputs": [
    {
     "name": "stdout",
     "output_type": "stream",
     "text": [
      "WARNING:tensorflow:From <ipython-input-2-e76c0a1a676e>:2: read_data_sets (from tensorflow.contrib.learn.python.learn.datasets.mnist) is deprecated and will be removed in a future version.\n",
      "Instructions for updating:\n",
      "Please use alternatives such as official/mnist/dataset.py from tensorflow/models.\n",
      "WARNING:tensorflow:From E:\\Anaconda3\\envs\\env\\lib\\site-packages\\tensorflow\\contrib\\learn\\python\\learn\\datasets\\mnist.py:260: maybe_download (from tensorflow.contrib.learn.python.learn.datasets.base) is deprecated and will be removed in a future version.\n",
      "Instructions for updating:\n",
      "Please write your own downloading logic.\n",
      "WARNING:tensorflow:From E:\\Anaconda3\\envs\\env\\lib\\site-packages\\tensorflow\\contrib\\learn\\python\\learn\\datasets\\mnist.py:262: extract_images (from tensorflow.contrib.learn.python.learn.datasets.mnist) is deprecated and will be removed in a future version.\n",
      "Instructions for updating:\n",
      "Please use tf.data to implement this functionality.\n",
      "Extracting data/MNIST_data/train-images-idx3-ubyte.gz\n",
      "WARNING:tensorflow:From E:\\Anaconda3\\envs\\env\\lib\\site-packages\\tensorflow\\contrib\\learn\\python\\learn\\datasets\\mnist.py:267: extract_labels (from tensorflow.contrib.learn.python.learn.datasets.mnist) is deprecated and will be removed in a future version.\n",
      "Instructions for updating:\n",
      "Please use tf.data to implement this functionality.\n",
      "Extracting data/MNIST_data/train-labels-idx1-ubyte.gz\n",
      "WARNING:tensorflow:From E:\\Anaconda3\\envs\\env\\lib\\site-packages\\tensorflow\\contrib\\learn\\python\\learn\\datasets\\mnist.py:110: dense_to_one_hot (from tensorflow.contrib.learn.python.learn.datasets.mnist) is deprecated and will be removed in a future version.\n",
      "Instructions for updating:\n",
      "Please use tf.one_hot on tensors.\n",
      "Extracting data/MNIST_data/t10k-images-idx3-ubyte.gz\n",
      "Extracting data/MNIST_data/t10k-labels-idx1-ubyte.gz\n",
      "WARNING:tensorflow:From E:\\Anaconda3\\envs\\env\\lib\\site-packages\\tensorflow\\contrib\\learn\\python\\learn\\datasets\\mnist.py:290: DataSet.__init__ (from tensorflow.contrib.learn.python.learn.datasets.mnist) is deprecated and will be removed in a future version.\n",
      "Instructions for updating:\n",
      "Please use alternatives such as official/mnist/dataset.py from tensorflow/models.\n"
     ]
    }
   ],
   "source": [
    "from tensorflow.examples.tutorials.mnist import input_data\n",
    "data = input_data.read_data_sets(\"data/MNIST_data/\", one_hot = True)\n",
    "logs_path = 'tensorboard/mnist_cnn/'"
   ]
  },
  {
   "cell_type": "code",
   "execution_count": 3,
   "metadata": {},
   "outputs": [],
   "source": [
    "img_size = 28\n",
    "img_size_flat = img_size * img_size\n",
    "img_shape = (img_size, img_size)\n",
    "num_channels = 1 #grayscale\n",
    "num_classes = 10"
   ]
  },
  {
   "cell_type": "code",
   "execution_count": 4,
   "metadata": {},
   "outputs": [],
   "source": [
    "def new_weights(shape): return tf.Variable(tf.truncated_normal(shape, stddev=0.03))\n",
    "\n",
    "def new_biases(length): return tf.Variable(tf.constant(0.03, shape=[length]))"
   ]
  },
  {
   "cell_type": "code",
   "execution_count": 5,
   "metadata": {},
   "outputs": [],
   "source": [
    "def new_conv_layer(input, num_input_channels, filter_size, filter_out): \n",
    "\n",
    "    #weight  input        input        input channels      output channel\n",
    "    shape = [filter_size, filter_size, num_input_channels, filter_out]\n",
    "\n",
    "    weights = new_weights(shape=shape)\n",
    "\n",
    "    biases = new_biases(length=filter_out)\n",
    "\n",
    "    layer = tf.nn.conv2d(input=input, filter=weights, strides=[1, 1, 1, 1], padding='SAME')\n",
    "\n",
    "    layer += biases\n",
    "\n",
    "    layer = tf.nn.relu(layer)\n",
    "    print('input {}'.format(input))\n",
    "    print('layer_out {}\\nWeights {}'.format(layer, weights))\n",
    "    return layer, weights\n",
    "    \n",
    "    #tf.nn.conv2d([-1, 28, 28, 1], [5, 5, 1, 32], strides=[1,1,1,1], use_cudnn_on_gpu=True,padding='SAME')    "
   ]
  },
  {
   "cell_type": "code",
   "execution_count": 6,
   "metadata": {},
   "outputs": [],
   "source": [
    "def maxpool2d(input, size, move):\n",
    "    \n",
    "    layer = tf.nn.max_pool(input, ksize=[1,size,size,1], strides=[1,move,move,1], padding='VALID')\n",
    "    \n",
    "    print('input {}'.format(input))\n",
    "    print('maxpool_out {}'.format(layer))\n",
    "    return layer\n",
    "    #performing relu after maxpooling reduces compute time. the result is the same if preformed in conv layer"
   ]
  },
  {
   "cell_type": "code",
   "execution_count": 7,
   "metadata": {},
   "outputs": [],
   "source": [
    "def flatten_layer(layer):\n",
    "   \n",
    "    layer_shape = layer.get_shape()\n",
    "\n",
    "    num_features = layer_shape[1:4].num_elements()\n",
    "    \n",
    "    layer_flat = tf.reshape(layer, [-1, num_features])\n",
    "\n",
    "    print('flat_layer {}'.format(num_features))\n",
    "    return layer_flat, num_features"
   ]
  },
  {
   "cell_type": "code",
   "execution_count": 8,
   "metadata": {},
   "outputs": [],
   "source": [
    "def new_fc_layer(input, num_inputs, num_outputs, use_relu=True): \n",
    "\n",
    "    weights = new_weights(shape=[num_inputs, num_outputs])\n",
    "    \n",
    "    biases = new_biases(length=num_outputs)\n",
    "\n",
    "    layer = tf.matmul(input, weights) + biases\n",
    "\n",
    "    print('input {}'.format(input))\n",
    "    print('fc_out {}\\nWeight {}'.format(layer, weights))\n",
    "\n",
    "    if use_relu: layer = tf.nn.relu(layer)\n",
    "\n",
    "    return layer"
   ]
  },
  {
   "cell_type": "code",
   "execution_count": 9,
   "metadata": {},
   "outputs": [
    {
     "name": "stdout",
     "output_type": "stream",
     "text": [
      "WARNING:tensorflow:From <ipython-input-9-a7f4e8bddce1>:11: calling argmax (from tensorflow.python.ops.math_ops) with dimension is deprecated and will be removed in a future version.\n",
      "Instructions for updating:\n",
      "Use the `axis` argument instead\n"
     ]
    }
   ],
   "source": [
    "with tf.name_scope('Image_Placeholder'):\n",
    "    x = tf.placeholder(tf.float32, shape=[None, img_size_flat], name='x')\n",
    "\n",
    "with tf.name_scope('Label_Placeholder'):\n",
    "    y_true = tf.placeholder(tf.float32, shape=[None, num_classes], name='y_true')\n",
    "\n",
    "with tf.name_scope('Image'):\n",
    "    x_image = tf.reshape(x, [-1, img_size, img_size, num_channels])\n",
    "\n",
    "with tf.name_scope('True_Class'):\n",
    "    y_true_cls = tf.argmax(y_true, dimension=1)"
   ]
  },
  {
   "cell_type": "code",
   "execution_count": 10,
   "metadata": {},
   "outputs": [
    {
     "name": "stdout",
     "output_type": "stream",
     "text": [
      "input Tensor(\"Image/Reshape:0\", shape=(?, 28, 28, 1), dtype=float32)\n",
      "layer_out Tensor(\"Relu:0\", shape=(?, 28, 28, 32), dtype=float32)\n",
      "Weights <tf.Variable 'Variable:0' shape=(5, 5, 1, 32) dtype=float32_ref>\n",
      "input Tensor(\"Relu:0\", shape=(?, 28, 28, 32), dtype=float32)\n",
      "maxpool_out Tensor(\"MaxPool:0\", shape=(?, 26, 26, 32), dtype=float32)\n"
     ]
    }
   ],
   "source": [
    "layer_conv1, weights_conv1 = new_conv_layer(input=x_image, \n",
    "                                            num_input_channels=1,\n",
    "                                            filter_size=5,\n",
    "                                            filter_out=32)\n",
    "\n",
    "maxp_layer1 = maxpool2d(layer_conv1, size=3, move=1)\n",
    "\n",
    "with tf.name_scope('convet_1'):\n",
    "    tf.summary.histogram('layer_1', layer_conv1)\n",
    "    tf.summary.histogram('Weight_1', weights_conv1)\n",
    "    \n",
    "with tf.name_scope('Maxpool_1'):\n",
    "    tf.summary.histogram('Maxpool_1', maxp_layer1)"
   ]
  },
  {
   "cell_type": "code",
   "execution_count": 11,
   "metadata": {},
   "outputs": [
    {
     "name": "stdout",
     "output_type": "stream",
     "text": [
      "input Tensor(\"MaxPool:0\", shape=(?, 26, 26, 32), dtype=float32)\n",
      "layer_out Tensor(\"Relu_1:0\", shape=(?, 26, 26, 64), dtype=float32)\n",
      "Weights <tf.Variable 'Variable_2:0' shape=(3, 3, 32, 64) dtype=float32_ref>\n",
      "input Tensor(\"Relu_1:0\", shape=(?, 26, 26, 64), dtype=float32)\n",
      "maxpool_out Tensor(\"MaxPool_1:0\", shape=(?, 13, 13, 64), dtype=float32)\n"
     ]
    }
   ],
   "source": [
    "layer_conv2, weights_conv2 = new_conv_layer(input=maxp_layer1,\n",
    "                                            num_input_channels=32,\n",
    "                                            filter_size=3,\n",
    "                                            filter_out=64)\n",
    "\n",
    "maxp_layer2 = maxpool2d(input=layer_conv2, size=2, move=2)\n",
    "\n",
    "with tf.name_scope('convet_2'):\n",
    "    tf.summary.histogram('layer_2', layer_conv2)\n",
    "    tf.summary.histogram('Weight_2', weights_conv2)\n",
    "    \n",
    "with tf.name_scope('Maxpool_2'):\n",
    "    tf.summary.histogram('Maxpool_2', maxp_layer2)"
   ]
  },
  {
   "cell_type": "code",
   "execution_count": 12,
   "metadata": {},
   "outputs": [
    {
     "name": "stdout",
     "output_type": "stream",
     "text": [
      "input Tensor(\"MaxPool_1:0\", shape=(?, 13, 13, 64), dtype=float32)\n",
      "layer_out Tensor(\"Relu_2:0\", shape=(?, 13, 13, 128), dtype=float32)\n",
      "Weights <tf.Variable 'Variable_4:0' shape=(3, 3, 64, 128) dtype=float32_ref>\n",
      "input Tensor(\"Relu_2:0\", shape=(?, 13, 13, 128), dtype=float32)\n",
      "maxpool_out Tensor(\"MaxPool_2:0\", shape=(?, 6, 6, 128), dtype=float32)\n"
     ]
    }
   ],
   "source": [
    "layer_conv3, weights_conv3 = new_conv_layer(input=maxp_layer2,\n",
    "                                            num_input_channels=64,\n",
    "                                            filter_size=3,\n",
    "                                            filter_out=128)\n",
    "\n",
    "maxp_layer3 = maxpool2d(input=layer_conv3, size=2, move=2)\n",
    "\n",
    "with tf.name_scope('convet_3'):\n",
    "    tf.summary.histogram('layer_3', layer_conv3)\n",
    "    tf.summary.histogram('Weight_3', weights_conv3)\n",
    "    \n",
    "with tf.name_scope('Maxpool_3'):\n",
    "    tf.summary.histogram('Maxpool_3', maxp_layer3)"
   ]
  },
  {
   "cell_type": "code",
   "execution_count": 13,
   "metadata": {},
   "outputs": [
    {
     "name": "stdout",
     "output_type": "stream",
     "text": [
      "flat_layer 10816\n"
     ]
    }
   ],
   "source": [
    "layer_flat, num_features = flatten_layer(maxp_layer2)"
   ]
  },
  {
   "cell_type": "code",
   "execution_count": 14,
   "metadata": {},
   "outputs": [
    {
     "name": "stdout",
     "output_type": "stream",
     "text": [
      "input Tensor(\"Reshape:0\", shape=(?, 10816), dtype=float32)\n",
      "fc_out Tensor(\"add_3:0\", shape=(?, 512), dtype=float32)\n",
      "Weight <tf.Variable 'Variable_6:0' shape=(10816, 512) dtype=float32_ref>\n"
     ]
    }
   ],
   "source": [
    "layer_fc1 = new_fc_layer(input=layer_flat,\n",
    "                         num_inputs=num_features,\n",
    "                         num_outputs=512)\n",
    "\n",
    "with tf.name_scope('Fully_Connctd_1'):\n",
    "    tf.summary.histogram('fc_1', layer_fc1)"
   ]
  },
  {
   "cell_type": "code",
   "execution_count": 15,
   "metadata": {},
   "outputs": [
    {
     "name": "stdout",
     "output_type": "stream",
     "text": [
      "input Tensor(\"Relu_3:0\", shape=(?, 512), dtype=float32)\n",
      "fc_out Tensor(\"add_4:0\", shape=(?, 10), dtype=float32)\n",
      "Weight <tf.Variable 'Variable_8:0' shape=(512, 10) dtype=float32_ref>\n"
     ]
    }
   ],
   "source": [
    "layer_fc2 = new_fc_layer(input=layer_fc1,\n",
    "                         num_inputs=512,\n",
    "                         num_outputs=num_classes,\n",
    "                         use_relu=False)\n",
    "with tf.name_scope('Fully_Connctd_2'):\n",
    "    tf.summary.histogram('fc_2', layer_fc2)"
   ]
  },
  {
   "cell_type": "code",
   "execution_count": 16,
   "metadata": {},
   "outputs": [],
   "source": [
    "with tf.name_scope('Y_pred_Softmaxe'):\n",
    "    y_pred = tf.nn.softmax(layer_fc2)\n",
    "\n",
    "with tf.name_scope('Y_pred_Class_argmax'):\n",
    "    y_pred_cls = tf.argmax(y_pred, dimension=1)\n",
    "\n",
    "with tf.name_scope('correct_prediction'):\n",
    "    correct_prediction = tf.equal(y_pred_cls, y_true_cls)\n",
    "\n",
    "with tf.name_scope('Accuracy'):\n",
    "    accuracy = tf.reduce_mean(tf.cast(correct_prediction, tf.float32))\n",
    "    tf.summary.scalar('Acc', accuracy)"
   ]
  },
  {
   "cell_type": "code",
   "execution_count": 17,
   "metadata": {},
   "outputs": [
    {
     "name": "stdout",
     "output_type": "stream",
     "text": [
      "WARNING:tensorflow:From <ipython-input-17-ad8e6135c868>:3: softmax_cross_entropy_with_logits (from tensorflow.python.ops.nn_ops) is deprecated and will be removed in a future version.\n",
      "Instructions for updating:\n",
      "\n",
      "Future major versions of TensorFlow will allow gradients to flow\n",
      "into the labels input on backprop by default.\n",
      "\n",
      "See @{tf.nn.softmax_cross_entropy_with_logits_v2}.\n",
      "\n"
     ]
    }
   ],
   "source": [
    "with tf.name_scope('Cross_Entropy'):\n",
    "    cross_entropy = tf.nn.softmax_cross_entropy_with_logits(logits=layer_fc2,\n",
    "                                                        labels=y_true)\n",
    "    #tf.summary.scalar('entropy', cross_entropy)\n",
    "\n",
    "with tf.name_scope('Cost'):\n",
    "    cost = tf.reduce_mean(cross_entropy)\n",
    "    tf.summary.scalar('Loss', cost)\n",
    "\n",
    "optimizer = tf.train.AdamOptimizer(learning_rate=1e-3).minimize(cost)"
   ]
  },
  {
   "cell_type": "code",
   "execution_count": 18,
   "metadata": {},
   "outputs": [],
   "source": [
    "merged_summary_op = tf.summary.merge_all()"
   ]
  },
  {
   "cell_type": "code",
   "execution_count": 19,
   "metadata": {},
   "outputs": [],
   "source": [
    "def optimize(num_iterations):\n",
    "\n",
    "    global total_iterations\n",
    "\n",
    "    start_time = time.time()\n",
    "\n",
    "    for i in range(total_iterations,total_iterations + num_iterations ):\n",
    "\n",
    "        x_batch, y_true_batch = data.train.next_batch(train_batch_size)\n",
    "\n",
    "        feed_dict_train = {x: x_batch, y_true: y_true_batch}\n",
    "\n",
    "        _ = session.run([optimizer], feed_dict=feed_dict_train)\n",
    "        #summary_writer.add_summary(summary, i)\n",
    "\n",
    "        if i % 100 == 0:\n",
    "            # Calculate the accuracy on the training-set.\n",
    "            acc, summary = session.run([accuracy, merged_summary_op], feed_dict=feed_dict_train)\n",
    "            print('iteration: {}   Training Accuracy: {}'.format(i, acc))\n",
    "            summary_writer.add_summary(summary, i)\n",
    "\n",
    "\n",
    "    print('End ==== iteration: {0:>6}   Training Accuracy: {1:>6.1%}'.format(i, acc))\n",
    "    total_iterations += num_iterations\n",
    "\n",
    "    end_time = time.time()\n",
    "\n",
    "    time_dif = end_time - start_time\n",
    "\n",
    "    print(\"Time usage: \" + str(timedelta(seconds=int(round(time_dif)))))"
   ]
  },
  {
   "cell_type": "code",
   "execution_count": 20,
   "metadata": {},
   "outputs": [],
   "source": [
    "if(tf.Session()._closed==False): \n",
    "    session = tf.Session()\n",
    "    session.run(tf.global_variables_initializer())\n",
    "else : print('session already running')\n",
    "    \n",
    "summary_writer = tf.summary.FileWriter(logs_path, graph=tf.get_default_graph())"
   ]
  },
  {
   "cell_type": "code",
   "execution_count": 21,
   "metadata": {},
   "outputs": [
    {
     "name": "stdout",
     "output_type": "stream",
     "text": [
      "iteration: 0   Training Accuracy: 0.1328125\n",
      "iteration: 100   Training Accuracy: 0.95703125\n",
      "iteration: 200   Training Accuracy: 0.984375\n",
      "iteration: 300   Training Accuracy: 0.98046875\n",
      "iteration: 400   Training Accuracy: 0.98828125\n",
      "iteration: 500   Training Accuracy: 0.98046875\n",
      "iteration: 600   Training Accuracy: 0.99609375\n",
      "iteration: 700   Training Accuracy: 0.9921875\n",
      "iteration: 800   Training Accuracy: 0.9921875\n",
      "iteration: 900   Training Accuracy: 0.99609375\n",
      "End ==== iteration:    999   Training Accuracy:  99.6%\n",
      "Time usage: 0:00:36\n"
     ]
    }
   ],
   "source": [
    "total_iterations = 0\n",
    "train_batch_size = 256\n",
    "optimize(num_iterations=1000)"
   ]
  },
  {
   "cell_type": "code",
   "execution_count": 22,
   "metadata": {},
   "outputs": [],
   "source": [
    "test_batch_size = 1000\n",
    "n_batches = data.test.images.shape[0] // test_batch_size\n",
    "pred = []\n",
    "def print_test_accuracy():\n",
    "    cumulative_accuracy = 0.0\n",
    "    start_time = time.time()\n",
    "    for index in range(n_batches):\n",
    "\n",
    "        print('{} -- of run size {}'.format(index+1, n_batches))\n",
    "        batch = data.test.next_batch(test_batch_size)\n",
    "\n",
    "        images = batch[0]\n",
    "        labels = batch[1]\n",
    "        feed_dict = {x: images, y_true: labels}\n",
    "\n",
    "        cumulative_accuracy += session.run(accuracy, feed_dict)\n",
    "        temp = session.run(y_pred_cls, feed_dict)\n",
    "        pred.append(temp)\n",
    "        print(\"batch accuracy {}\".format(cumulative_accuracy / (index+1) ) )\n",
    "    end_time = time.time()\n",
    "    time_dif = end_time - start_time\n",
    "    print(\"test accuracy {} in Time {}\".format(cumulative_accuracy / n_batches, (timedelta(seconds=int(round(time_dif)))) ) )"
   ]
  },
  {
   "cell_type": "code",
   "execution_count": 23,
   "metadata": {},
   "outputs": [
    {
     "name": "stdout",
     "output_type": "stream",
     "text": [
      "1 -- of run size 10\n",
      "batch accuracy 0.9940000176429749\n",
      "2 -- of run size 10\n",
      "batch accuracy 0.9945000112056732\n",
      "3 -- of run size 10\n",
      "batch accuracy 0.9943333466847738\n",
      "4 -- of run size 10\n",
      "batch accuracy 0.9930000156164169\n",
      "5 -- of run size 10\n",
      "batch accuracy 0.9928000092506408\n",
      "6 -- of run size 10\n",
      "batch accuracy 0.9930000106493632\n",
      "7 -- of run size 10\n",
      "batch accuracy 0.992428583758218\n",
      "8 -- of run size 10\n",
      "batch accuracy 0.9926250129938126\n",
      "9 -- of run size 10\n",
      "batch accuracy 0.992333345943027\n",
      "10 -- of run size 10\n",
      "batch accuracy 0.9913000106811524\n",
      "test accuracy 0.9913000106811524 in Time 0:00:01\n"
     ]
    }
   ],
   "source": [
    "print_test_accuracy()"
   ]
  },
  {
   "cell_type": "code",
   "execution_count": 24,
   "metadata": {},
   "outputs": [],
   "source": [
    "import os\n",
    "from tensorflow.contrib.tensorboard.plugins import projector\n",
    "import pandas as pd\n",
    "\n",
    "\n",
    "metadata = os.path.join(logs_path, 'metadata.tsv')\n",
    "plables = np.reshape(pred, (-1))\n",
    "plables = np.asarray(pd.get_dummies(plables))\n",
    "\n",
    "with open(metadata, 'w') as metadata_file:\n",
    "    for row in range(10000):\n",
    "        c = np.nonzero(plables[::1])[1:][0][row]\n",
    "        metadata_file.write('{}\\n'.format(c))\n",
    "        \n",
    "images = tf.Variable(data.test.images, name='images')\n",
    "saver = tf.train.Saver([images])\n",
    "session.run(images.initializer)\n",
    "saver.save(session, os.path.join(logs_path, 'images.ckpt'))\n",
    "config = projector.ProjectorConfig()\n",
    "embedding = config.embeddings.add()\n",
    "embedding.tensor_name = images.name\n",
    "embedding.metadata_path = metadata\n",
    "\n",
    "projector.visualize_embeddings(tf.summary.FileWriter(logs_path), config)"
   ]
  },
  {
   "cell_type": "code",
   "execution_count": null,
   "metadata": {},
   "outputs": [],
   "source": [
    "#tensorboard --logdir=tensorboard/mnist_cnn --port=8080\n",
    "#embeddings do not work on the default port in this case"
   ]
  },
  {
   "cell_type": "code",
   "execution_count": 25,
   "metadata": {},
   "outputs": [
    {
     "name": "stdout",
     "output_type": "stream",
     "text": [
      "1\n"
     ]
    }
   ],
   "source": [
    "print(1)"
   ]
  },
  {
   "cell_type": "code",
   "execution_count": null,
   "metadata": {},
   "outputs": [],
   "source": []
  },
  {
   "cell_type": "code",
   "execution_count": null,
   "metadata": {},
   "outputs": [],
   "source": []
  }
 ],
 "metadata": {
  "kernelspec": {
   "display_name": "Python 3",
   "language": "python",
   "name": "python3"
  },
  "language_info": {
   "codemirror_mode": {
    "name": "ipython",
    "version": 3
   },
   "file_extension": ".py",
   "mimetype": "text/x-python",
   "name": "python",
   "nbconvert_exporter": "python",
   "pygments_lexer": "ipython3",
   "version": "3.5.5"
  }
 },
 "nbformat": 4,
 "nbformat_minor": 2
}
