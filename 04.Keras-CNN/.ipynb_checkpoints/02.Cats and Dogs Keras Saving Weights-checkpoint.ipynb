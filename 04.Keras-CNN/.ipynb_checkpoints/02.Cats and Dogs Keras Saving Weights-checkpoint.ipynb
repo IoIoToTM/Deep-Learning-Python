{
 "cells": [
  {
   "cell_type": "code",
   "execution_count": 1,
   "metadata": {},
   "outputs": [
    {
     "name": "stderr",
     "output_type": "stream",
     "text": [
      "Using TensorFlow backend.\n"
     ]
    }
   ],
   "source": [
    "import numpy as np\n",
    "from keras.models import Sequential\n",
    "from keras.layers import Conv2D, MaxPooling2D\n",
    "from keras.layers import Activation, Dropout, Flatten, Dense\n",
    "from keras.callbacks import ModelCheckpoint, Callback, EarlyStopping\n",
    "from keras.utils import np_utils\n",
    "from keras.preprocessing.image import ImageDataGenerator, array_to_img, img_to_array, load_img\n",
    "from keras import backend as K\n",
    "from keras import applications"
   ]
  },
  {
   "cell_type": "code",
   "execution_count": 2,
   "metadata": {},
   "outputs": [],
   "source": [
    "img_width, img_height = 150, 150\n",
    "top_model_weights_path = 'fc_model.h5'\n",
    "train_data_dir = 'data/train'\n",
    "validation_data_dir = 'data/validation'\n",
    "nb_train_samples = 8000\n",
    "nb_validation_samples = 200\n",
    "epochs = 50\n",
    "batch_size = 10"
   ]
  },
  {
   "cell_type": "code",
   "execution_count": 3,
   "metadata": {},
   "outputs": [],
   "source": [
    "if K.image_data_format() == 'channels_first':\n",
    "    input_shape = (3, img_width, img_height)\n",
    "else:\n",
    "    input_shape = (img_width, img_height, 3)"
   ]
  },
  {
   "cell_type": "code",
   "execution_count": 9,
   "metadata": {},
   "outputs": [],
   "source": [
    "def save_bottlebeck_features():\n",
    "    datagen = ImageDataGenerator(rescale=1. / 255)\n",
    "        \n",
    "    model = applications.VGG16(include_top=False, weights='imagenet')\n",
    "    model.summary()\n",
    "    generator = datagen.flow_from_directory(\n",
    "                        train_data_dir,\n",
    "                        target_size=(img_width, img_height),\n",
    "                        batch_size=batch_size,\n",
    "                        class_mode=None,\n",
    "                        shuffle=False)\n",
    "    bottleneck_features_train = model.predict_generator( generator, nb_train_samples // batch_size)\n",
    "    np.save(file=\"bottleneck_features_train.npy\", arr=bottleneck_features_train)\n",
    "    \n",
    "    datagen = ImageDataGenerator(rescale=1. / 255)\n",
    "    generator = datagen.flow_from_directory(\n",
    "                            validation_data_dir,\n",
    "                            target_size=(img_width, img_height),\n",
    "                            batch_size=batch_size,\n",
    "                            class_mode=None,\n",
    "                            shuffle=False)\n",
    "    bottleneck_features_validation = model.predict_generator(generator, nb_validation_samples // batch_size)\n",
    "    np.save(\"bottleneck_features_validation.npy\", arr=bottleneck_features_validation)\n"
   ]
  },
  {
   "cell_type": "code",
   "execution_count": null,
   "metadata": {
    "scrolled": false
   },
   "outputs": [],
   "source": [
    "save_bottlebeck_features()"
   ]
  },
  {
   "cell_type": "code",
   "execution_count": 6,
   "metadata": {},
   "outputs": [],
   "source": [
    "def train_top_model():\n",
    "    train_data = np.load(\"bottleneck_features_train.npy\")\n",
    "    train_labels = np.array( [0] * (nb_train_samples // 2) + [1] * (nb_train_samples // 2))\n",
    "\n",
    "    validation_data = np.load(\"bottleneck_features_validation.npy\")\n",
    "    validation_labels = np.array( [0] * (nb_validation_samples // 2) + [1] * (nb_validation_samples // 2))\n",
    "    \n",
    "    model = Sequential()\n",
    "    model.add(Flatten(input_shape=train_data.shape[1:]))\n",
    "    model.add(Dense(256, activation='relu'))\n",
    "    model.add(Dropout(0.5))\n",
    "    model.add(Dense(1, activation='sigmoid'))\n",
    "\n",
    "    model.compile(optimizer='rmsprop', loss='binary_crossentropy', metrics=['accuracy'])\n",
    "    model.summary()\n",
    "\n",
    "    model.fit(train_data, train_labels,\n",
    "              epochs=epochs,\n",
    "              batch_size=batch_size,\n",
    "              validation_data=(validation_data, validation_labels),\n",
    "              verbose=1) \n",
    "    \n",
    "    model.save_weights(top_model_weights_path)"
   ]
  },
  {
   "cell_type": "code",
   "execution_count": 7,
   "metadata": {
    "scrolled": false
   },
   "outputs": [
    {
     "name": "stdout",
     "output_type": "stream",
     "text": [
      "_________________________________________________________________\n",
      "Layer (type)                 Output Shape              Param #   \n",
      "=================================================================\n",
      "flatten_1 (Flatten)          (None, 8192)              0         \n",
      "_________________________________________________________________\n",
      "dense_1 (Dense)              (None, 256)               2097408   \n",
      "_________________________________________________________________\n",
      "dropout_1 (Dropout)          (None, 256)               0         \n",
      "_________________________________________________________________\n",
      "dense_2 (Dense)              (None, 1)                 257       \n",
      "=================================================================\n",
      "Total params: 2,097,665\n",
      "Trainable params: 2,097,665\n",
      "Non-trainable params: 0\n",
      "_________________________________________________________________\n",
      "Train on 8000 samples, validate on 200 samples\n",
      "Epoch 1/50\n",
      "8000/8000 [==============================] - 6s 695us/step - loss: 0.4972 - acc: 0.8261 - val_loss: 0.4254 - val_acc: 0.8450\n",
      "Epoch 2/50\n",
      "8000/8000 [==============================] - 5s 612us/step - loss: 0.3296 - acc: 0.8720 - val_loss: 0.3994 - val_acc: 0.8950\n",
      "Epoch 3/50\n",
      "8000/8000 [==============================] - 5s 611us/step - loss: 0.2942 - acc: 0.8946 - val_loss: 0.3445 - val_acc: 0.8750\n",
      "Epoch 4/50\n",
      "8000/8000 [==============================] - 5s 602us/step - loss: 0.2761 - acc: 0.8997 - val_loss: 0.3531 - val_acc: 0.8900\n",
      "Epoch 5/50\n",
      "8000/8000 [==============================] - 5s 614us/step - loss: 0.2608 - acc: 0.9074 - val_loss: 0.3943 - val_acc: 0.8700\n",
      "Epoch 6/50\n",
      "8000/8000 [==============================] - 5s 622us/step - loss: 0.2498 - acc: 0.9122 - val_loss: 0.3980 - val_acc: 0.9000\n",
      "Epoch 7/50\n",
      "8000/8000 [==============================] - 5s 618us/step - loss: 0.2378 - acc: 0.9204 - val_loss: 0.4584 - val_acc: 0.8700\n",
      "Epoch 8/50\n",
      "8000/8000 [==============================] - 5s 611us/step - loss: 0.2201 - acc: 0.9200 - val_loss: 0.4060 - val_acc: 0.8800\n",
      "Epoch 9/50\n",
      "8000/8000 [==============================] - 5s 614us/step - loss: 0.2201 - acc: 0.9230 - val_loss: 0.5026 - val_acc: 0.8750\n",
      "Epoch 10/50\n",
      "8000/8000 [==============================] - 5s 634us/step - loss: 0.2060 - acc: 0.9325 - val_loss: 0.5293 - val_acc: 0.8700\n",
      "Epoch 11/50\n",
      "8000/8000 [==============================] - 5s 607us/step - loss: 0.1983 - acc: 0.9334 - val_loss: 0.5451 - val_acc: 0.8750\n",
      "Epoch 12/50\n",
      "8000/8000 [==============================] - 5s 610us/step - loss: 0.1973 - acc: 0.9350 - val_loss: 0.4215 - val_acc: 0.8800\n",
      "Epoch 13/50\n",
      "8000/8000 [==============================] - 5s 605us/step - loss: 0.1925 - acc: 0.9387 - val_loss: 0.4511 - val_acc: 0.8800\n",
      "Epoch 14/50\n",
      "8000/8000 [==============================] - 5s 616us/step - loss: 0.1801 - acc: 0.9429 - val_loss: 0.4925 - val_acc: 0.8750\n",
      "Epoch 15/50\n",
      "8000/8000 [==============================] - 5s 617us/step - loss: 0.1680 - acc: 0.9456 - val_loss: 0.5149 - val_acc: 0.8850\n",
      "Epoch 16/50\n",
      "8000/8000 [==============================] - 5s 611us/step - loss: 0.1718 - acc: 0.9475 - val_loss: 0.5530 - val_acc: 0.8950\n",
      "Epoch 17/50\n",
      "8000/8000 [==============================] - 5s 611us/step - loss: 0.1639 - acc: 0.9505 - val_loss: 0.4495 - val_acc: 0.8950\n",
      "Epoch 18/50\n",
      "8000/8000 [==============================] - 5s 603us/step - loss: 0.1463 - acc: 0.9516 - val_loss: 0.5598 - val_acc: 0.9000\n",
      "Epoch 19/50\n",
      "8000/8000 [==============================] - 5s 612us/step - loss: 0.1417 - acc: 0.9569 - val_loss: 0.5791 - val_acc: 0.8950\n",
      "Epoch 20/50\n",
      "8000/8000 [==============================] - 5s 604us/step - loss: 0.1376 - acc: 0.9581 - val_loss: 0.6146 - val_acc: 0.8950\n",
      "Epoch 21/50\n",
      "8000/8000 [==============================] - 5s 603us/step - loss: 0.1276 - acc: 0.9636 - val_loss: 0.6310 - val_acc: 0.8850\n",
      "Epoch 22/50\n",
      "8000/8000 [==============================] - 5s 599us/step - loss: 0.1336 - acc: 0.9601 - val_loss: 0.6061 - val_acc: 0.9100\n",
      "Epoch 23/50\n",
      "8000/8000 [==============================] - 5s 606us/step - loss: 0.1317 - acc: 0.9601 - val_loss: 0.5844 - val_acc: 0.8950\n",
      "Epoch 24/50\n",
      "8000/8000 [==============================] - 5s 607us/step - loss: 0.1178 - acc: 0.9661 - val_loss: 0.6178 - val_acc: 0.9000\n",
      "Epoch 25/50\n",
      "8000/8000 [==============================] - 5s 602us/step - loss: 0.1140 - acc: 0.9706 - val_loss: 0.6606 - val_acc: 0.9000\n",
      "Epoch 26/50\n",
      "8000/8000 [==============================] - 5s 618us/step - loss: 0.1110 - acc: 0.9687 - val_loss: 0.6349 - val_acc: 0.8950\n",
      "Epoch 27/50\n",
      "8000/8000 [==============================] - 5s 612us/step - loss: 0.1085 - acc: 0.9707 - val_loss: 0.5659 - val_acc: 0.8950\n",
      "Epoch 28/50\n",
      "8000/8000 [==============================] - 5s 597us/step - loss: 0.0999 - acc: 0.9715 - val_loss: 0.7056 - val_acc: 0.8850\n",
      "Epoch 29/50\n",
      "8000/8000 [==============================] - 5s 608us/step - loss: 0.0976 - acc: 0.9715 - val_loss: 0.7693 - val_acc: 0.8900\n",
      "Epoch 30/50\n",
      "8000/8000 [==============================] - 5s 601us/step - loss: 0.1032 - acc: 0.9727 - val_loss: 0.7624 - val_acc: 0.8800\n",
      "Epoch 31/50\n",
      "8000/8000 [==============================] - 5s 604us/step - loss: 0.0851 - acc: 0.9786 - val_loss: 0.7061 - val_acc: 0.9000\n",
      "Epoch 32/50\n",
      "8000/8000 [==============================] - 5s 599us/step - loss: 0.0840 - acc: 0.9775 - val_loss: 0.7011 - val_acc: 0.8950\n",
      "Epoch 33/50\n",
      "8000/8000 [==============================] - 5s 610us/step - loss: 0.0789 - acc: 0.9782 - val_loss: 0.7146 - val_acc: 0.8950\n",
      "Epoch 34/50\n",
      "8000/8000 [==============================] - 5s 606us/step - loss: 0.0744 - acc: 0.9817 - val_loss: 0.7920 - val_acc: 0.8900\n",
      "Epoch 35/50\n",
      "8000/8000 [==============================] - 5s 603us/step - loss: 0.0843 - acc: 0.9790 - val_loss: 0.7715 - val_acc: 0.9000\n",
      "Epoch 36/50\n",
      "8000/8000 [==============================] - 5s 599us/step - loss: 0.0662 - acc: 0.9825 - val_loss: 0.8079 - val_acc: 0.9000\n",
      "Epoch 37/50\n",
      "8000/8000 [==============================] - 5s 601us/step - loss: 0.0772 - acc: 0.9812 - val_loss: 0.7280 - val_acc: 0.9000\n",
      "Epoch 38/50\n",
      "8000/8000 [==============================] - 5s 597us/step - loss: 0.0701 - acc: 0.9822 - val_loss: 0.7921 - val_acc: 0.8950\n",
      "Epoch 39/50\n",
      "8000/8000 [==============================] - 5s 603us/step - loss: 0.0626 - acc: 0.9862 - val_loss: 0.9093 - val_acc: 0.8950\n",
      "Epoch 40/50\n",
      "8000/8000 [==============================] - 5s 604us/step - loss: 0.0802 - acc: 0.9821 - val_loss: 0.8081 - val_acc: 0.9000\n",
      "Epoch 41/50\n",
      "8000/8000 [==============================] - 5s 604us/step - loss: 0.0577 - acc: 0.9852 - val_loss: 0.9062 - val_acc: 0.8950\n",
      "Epoch 42/50\n",
      "8000/8000 [==============================] - 5s 615us/step - loss: 0.0552 - acc: 0.9866 - val_loss: 0.8925 - val_acc: 0.8900\n",
      "Epoch 43/50\n",
      "8000/8000 [==============================] - 5s 623us/step - loss: 0.0567 - acc: 0.9874 - val_loss: 0.8129 - val_acc: 0.9050\n",
      "Epoch 44/50\n",
      "8000/8000 [==============================] - 5s 615us/step - loss: 0.0507 - acc: 0.9887 - val_loss: 0.9283 - val_acc: 0.8900\n",
      "Epoch 45/50\n",
      "8000/8000 [==============================] - 5s 611us/step - loss: 0.0544 - acc: 0.9866 - val_loss: 0.7922 - val_acc: 0.9000\n",
      "Epoch 46/50\n",
      "8000/8000 [==============================] - 5s 610us/step - loss: 0.0604 - acc: 0.9869 - val_loss: 0.8555 - val_acc: 0.8950\n",
      "Epoch 47/50\n",
      "8000/8000 [==============================] - 5s 616us/step - loss: 0.0578 - acc: 0.9876 - val_loss: 0.9584 - val_acc: 0.8850\n",
      "Epoch 48/50\n",
      "8000/8000 [==============================] - 5s 610us/step - loss: 0.0582 - acc: 0.9881 - val_loss: 0.8027 - val_acc: 0.9000\n",
      "Epoch 49/50\n",
      "8000/8000 [==============================] - 5s 598us/step - loss: 0.0587 - acc: 0.9879 - val_loss: 0.8460 - val_acc: 0.9000\n",
      "Epoch 50/50\n",
      "8000/8000 [==============================] - 5s 610us/step - loss: 0.0507 - acc: 0.9902 - val_loss: 0.9126 - val_acc: 0.8900\n"
     ]
    }
   ],
   "source": [
    "train_top_model()"
   ]
  },
  {
   "cell_type": "code",
   "execution_count": 8,
   "metadata": {},
   "outputs": [
    {
     "name": "stdout",
     "output_type": "stream",
     "text": [
      "1\n"
     ]
    }
   ],
   "source": [
    "print(1)"
   ]
  },
  {
   "cell_type": "code",
   "execution_count": null,
   "metadata": {},
   "outputs": [],
   "source": []
  }
 ],
 "metadata": {
  "kernelspec": {
   "display_name": "Python 3",
   "language": "python",
   "name": "python3"
  },
  "language_info": {
   "codemirror_mode": {
    "name": "ipython",
    "version": 3
   },
   "file_extension": ".py",
   "mimetype": "text/x-python",
   "name": "python",
   "nbconvert_exporter": "python",
   "pygments_lexer": "ipython3",
   "version": "3.5.5"
  }
 },
 "nbformat": 4,
 "nbformat_minor": 2
}
